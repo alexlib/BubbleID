{
 "cells": [
  {
   "cell_type": "markdown",
   "id": "7f25399a-cea3-4933-8163-ffb88de6a726",
   "metadata": {},
   "source": [
    "# BubbleID Tutorial\n",
    "This tutorial will walk you through how to use the pretrained models for generating plots from the boiling image data. For this tutorial you will need to download and unzip steady state test data [here](https://osf.io/2gwj5). Or you can use your own boiling data if you have both the video in .avi format and the frames saved as .jpgs. You will also need to download the saved model weights [here](https://osf.io/uy2ad)."
   ]
  },
  {
   "cell_type": "code",
   "execution_count": 1,
   "id": "6862473e-35b8-4418-83d6-82e93459b0ca",
   "metadata": {},
   "outputs": [],
   "source": [
    "# Load the BubbleID Framework\n",
    "from BubbleID import BubbleID"
   ]
  },
  {
   "cell_type": "code",
   "execution_count": null,
   "id": "0f6d7fc0-3560-4faa-9d7b-b279a113f004",
   "metadata": {},
   "outputs": [],
   "source": [
    "# Define the parameters for the model:\n",
    "imagesfolder=    # Define the path to the folder of images\n",
    "videopath=    # Define the path to the avi video\n",
    "savefolder=   # Define the folder you want the data to save in\n",
    "extension=    # Define the extension you want all the saved data to have. This should be unique for each experiment\n",
    "thres=    # Define the threshold for what the model identifies as a bubble\n",
    "modelweights=     # Define the path to the saved model weights.\n",
    "device=   # Specify if running on \"cpu\" or \"gpu\""
   ]
  },
  {
   "cell_type": "code",
   "execution_count": null,
   "id": "f9dcde8a-0a2d-4415-81da-0743cd96a68d",
   "metadata": {},
   "outputs": [],
   "source": [
    "# First initiate the class\n",
    "test120=BubbleID.DataAnalysis(imagesfolder,videopath,savefolder,extension,modelweights,\"cpu\")"
   ]
  },
  {
   "cell_type": "code",
   "execution_count": null,
   "id": "a568e1b7-3c3b-4674-bcaf-f086960662ce",
   "metadata": {},
   "outputs": [],
   "source": [
    "# Generate the data from the images:\n",
    "test120.GenerateData(thres)"
   ]
  },
  {
   "cell_type": "code",
   "execution_count": null,
   "id": "51f69745-fc46-49ea-b1c3-8b054c3c1917",
   "metadata": {},
   "outputs": [],
   "source": [
    "# Plot the bubble count:\n",
    "test120.Plotbc()"
   ]
  },
  {
   "cell_type": "code",
   "execution_count": null,
   "id": "9c4b8bab-25a7-4809-9624-0835b072eb75",
   "metadata": {},
   "outputs": [],
   "source": [
    "# Plot the vapor fraction:\n",
    "test120.Plotvf()"
   ]
  },
  {
   "cell_type": "code",
   "execution_count": null,
   "id": "5da9de89-740a-45ca-b32d-17b1cd2e5ec9",
   "metadata": {},
   "outputs": [],
   "source": [
    "# Plot the interface velocity:\n",
    "bubble=    # Define which bubble in the video you want to find the interface velocity for\n",
    "test120.PlotInterfaceVelocity(1)"
   ]
  }
 ],
 "metadata": {
  "kernelspec": {
   "display_name": "Python 3 (ipykernel)",
   "language": "python",
   "name": "python3"
  },
  "language_info": {
   "codemirror_mode": {
    "name": "ipython",
    "version": 3
   },
   "file_extension": ".py",
   "mimetype": "text/x-python",
   "name": "python",
   "nbconvert_exporter": "python",
   "pygments_lexer": "ipython3",
   "version": "3.10.0"
  }
 },
 "nbformat": 4,
 "nbformat_minor": 5
}
